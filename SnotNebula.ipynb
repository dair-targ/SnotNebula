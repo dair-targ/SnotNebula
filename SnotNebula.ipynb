{
 "cells": [
  {
   "cell_type": "markdown",
   "metadata": {},
   "source": [
    "# Snot nebula\n",
    "Few days ago I catch up a cold and my nose become full of snot. It was completely disgusting and I was trying to find a thoughts to distract myself from such a miserable condition. Among the other things, I became curious on pretty perverted question: how much space a single snot shot would take being turned into a planetary nebula?\n",
    "\n",
    "After partial recovery I was still curious and here is what I've found.\n",
    "\n",
    "To find out how much space a single snot shot would take we would need several values."
   ]
  },
  {
   "cell_type": "markdown",
   "metadata": {},
   "source": [
    "**Assumption:** Let's assume that a single green big snot shot has a volume of $1cm^3$."
   ]
  },
  {
   "cell_type": "code",
   "execution_count": 1,
   "metadata": {
    "collapsed": true
   },
   "outputs": [],
   "source": [
    "snot_volume_cm3 = 1.0"
   ]
  },
  {
   "cell_type": "markdown",
   "metadata": {},
   "source": [
    "**Assumption:** Let's assume snot shot is roughly consists of water moleculas."
   ]
  },
  {
   "cell_type": "code",
   "execution_count": 2,
   "metadata": {
    "collapsed": true
   },
   "outputs": [],
   "source": [
    "snot_density = 1.0"
   ]
  },
  {
   "cell_type": "markdown",
   "metadata": {},
   "source": [
    "**Fact:** $1cm^3$ of water weights $1g$."
   ]
  },
  {
   "cell_type": "code",
   "execution_count": 3,
   "metadata": {
    "collapsed": false
   },
   "outputs": [
    {
     "name": "stdout",
     "output_type": "stream",
     "text": [
      "Snot weight (g): 1.0\n"
     ]
    }
   ],
   "source": [
    "snot_weight_g = snot_density * snot_volume_cm3\n",
    "print 'Snot weight (g):', snot_weight_g"
   ]
  },
  {
   "cell_type": "markdown",
   "metadata": {},
   "source": [
    "**Fact:** [Water molar mass](https://en.wikipedia.org/wiki/Molar_mass) is $~18g/mol$"
   ]
  },
  {
   "cell_type": "code",
   "execution_count": 4,
   "metadata": {
    "collapsed": false
   },
   "outputs": [
    {
     "name": "stdout",
     "output_type": "stream",
     "text": [
      "Snot (mole): 5.6e-02\n"
     ]
    }
   ],
   "source": [
    "snot_mole = snot_weight_g / 18.0\n",
    "print 'Snot (mole): %.1e' % snot_mole"
   ]
  },
  {
   "cell_type": "markdown",
   "metadata": {},
   "source": [
    "**Fact:** The number of particles in a single mole, [Avogadro constant](https://en.wikipedia.org/wiki/Avogadro_constant), is $~6.0\\times10^{23}$."
   ]
  },
  {
   "cell_type": "code",
   "execution_count": 5,
   "metadata": {
    "collapsed": false
   },
   "outputs": [
    {
     "name": "stdout",
     "output_type": "stream",
     "text": [
      "Moleculas in snot: 3.3e+22\n"
     ]
    }
   ],
   "source": [
    "N_A = 6.0 * 10.0**23.0\n",
    "snot_moleculas = snot_mole * N_A\n",
    "print 'Moleculas in snot: %.1e' % snot_moleculas"
   ]
  },
  {
   "cell_type": "markdown",
   "metadata": {},
   "source": [
    "**Assumption:** According to Wikipedia, planetary nebulae has density $10^2..10^3$ particles per $cm^3$ ([link](https://en.wikipedia.org/wiki/Planetary_nebula#Characteristics)). Let's assume that the snot would be spread with a $10^2 particles/cm^3$"
   ]
  },
  {
   "cell_type": "code",
   "execution_count": 6,
   "metadata": {
    "collapsed": false
   },
   "outputs": [
    {
     "name": "stdout",
     "output_type": "stream",
     "text": [
      "Snot nebula volume (cm^3): 3.3e+20\n"
     ]
    }
   ],
   "source": [
    "nebula_particles_density = 100.0  # per cm^3\n",
    "snot_nebula_volume_cm3 = snot_moleculas / nebula_particles_density\n",
    "print 'Snot nebula volume (cm^3): %.1e' % snot_nebula_volume_cm3"
   ]
  },
  {
   "cell_type": "markdown",
   "metadata": {},
   "source": [
    "**Fact** Sphere volume is $V_{sphere} = \\frac{4}{3} \\pi r^3$. Hence radius of the sphere with a given volume would be $r = \\sqrt[3]{\\frac{3}{4\\pi} \\times V_{sphere}}$"
   ]
  },
  {
   "cell_type": "code",
   "execution_count": 7,
   "metadata": {
    "collapsed": false
   },
   "outputs": [
    {
     "name": "stdout",
     "output_type": "stream",
     "text": [
      "Snot nebula radius (cm): 4.3e+06\n"
     ]
    }
   ],
   "source": [
    "import math\n",
    "snot_nebula_r_cm = (3.0 / (4.0 * math.pi) * snot_nebula_volume_cm3)**(1.0 / 3.0)\n",
    "print 'Snot nebula radius (cm): %.1e' % snot_nebula_r_cm"
   ]
  },
  {
   "cell_type": "markdown",
   "metadata": {},
   "source": [
    "**Fact** $1km = 10^5cm$"
   ]
  },
  {
   "cell_type": "code",
   "execution_count": 8,
   "metadata": {
    "collapsed": false,
    "scrolled": true
   },
   "outputs": [
    {
     "name": "stdout",
     "output_type": "stream",
     "text": [
      "Snot nebula radius (km): 43.0\n"
     ]
    }
   ],
   "source": [
    "snot_nebula_r_km = snot_nebula_r_cm / 10.0**5\n",
    "print 'Snot nebula radius (km): %.1f' % snot_nebula_r_km"
   ]
  },
  {
   "cell_type": "markdown",
   "metadata": {},
   "source": [
    "As you may see, the Snot nebula is not a big one. At this moment however I became curious, what if its shape would be not a spherical, but a cylinder with a height equal to the average height of the buildings of some large cities. Shortly after I've found a [research by Markus Schläpfer et al.](http://samoa.santafe.edu/media/workingpapers/15-12-045.pdf) stating that the average building height of various big cities of USA is between 5 and 10 meters. I've chosend $10m = 10^3cm$ so the Snot nebula could compete with a Nwe York city.\n",
    "\n",
    "So cylinder volume is $V_{cylinder} = height \\times \\pi r^2$. Hence the radius for the known volume and the height would be $r = \\sqrt{\\frac{V_{cylinder}}{height \\times \\pi}}$"
   ]
  },
  {
   "cell_type": "code",
   "execution_count": 9,
   "metadata": {
    "collapsed": false
   },
   "outputs": [
    {
     "name": "stdout",
     "output_type": "stream",
     "text": [
      "Cylindrical Snot nebula radius (km): 3257.4\n"
     ]
    }
   ],
   "source": [
    "snot_city_height_cm = 1000\n",
    "snot_city_r_cm = (snot_nebula_volume_cm3 / (snot_city_height_cm * math.pi))**0.5\n",
    "snot_city_r_km = snot_city_r_cm / 10.0**5\n",
    "print 'Cylindrical Snot nebula radius (km): %.1f' % snot_city_r_km"
   ]
  },
  {
   "cell_type": "markdown",
   "metadata": {},
   "source": [
    "# Conclusion\n",
    "So basic answer is pretty simple: radius of the spherical Snot nebula would be $~43 km$ which is a size of a large city.\n",
    "\n",
    "However if for some uncomprehencible reason the Snot nebula would take a height of the city, its radius would be $~3257.4km$ which is only slightly less than the radius of the Mars, $3390km$.\n",
    "\n",
    "So the general advice: do not let your snots into outer space!"
   ]
  }
 ],
 "metadata": {
  "kernelspec": {
   "display_name": "Python 2",
   "language": "python",
   "name": "python2"
  },
  "language_info": {
   "codemirror_mode": {
    "name": "ipython",
    "version": 2
   },
   "file_extension": ".py",
   "mimetype": "text/x-python",
   "name": "python",
   "nbconvert_exporter": "python",
   "pygments_lexer": "ipython2",
   "version": "2.7.12"
  }
 },
 "nbformat": 4,
 "nbformat_minor": 0
}
